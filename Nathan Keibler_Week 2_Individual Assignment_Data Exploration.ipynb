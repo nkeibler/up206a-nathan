{
 "cells": [
  {
   "cell_type": "markdown",
   "metadata": {},
   "source": [
    "# Week 2 - Individual Assignment: Data Exploration \n",
    "\n",
    "For this assignment, I will be working with a dataset titled \"L.A. County Neighborhoods (V6),\" which I downloaded from the <a href=\"http://boundaries.latimes.com/sets/\" target=\"_blank\">LA Times' \"Mapping L.A. Boundaries\"</a> page. The source provided me with three options in the \"Bulk downloads\" section: GeoJSON, KML, and SHP. I downloaded the lattermost option and uploaded the files to the \"data\" folder of Week 2. In the cells below, I will be running a collection of commands to further explore the dataset."
   ]
  },
  {
   "cell_type": "markdown",
   "metadata": {},
   "source": [
    "## geopandas\n",
    "\n",
    "First, I will start by importing the \"geopandas\" module, which will allow me to work with a variety of spatial data formats and plot them on a map. I am using geopandas, rather than pandas, because it is able to read shapefiles."
   ]
  },
  {
   "cell_type": "code",
   "execution_count": 12,
   "metadata": {},
   "outputs": [],
   "source": [
    "import geopandas as gpd"
   ]
  },
  {
   "cell_type": "markdown",
   "metadata": {},
   "source": [
    "1.1 Output: The \"geopandas\" module has now been imported into this notebook."
   ]
  },
  {
   "cell_type": "markdown",
   "metadata": {},
   "source": [
    "## Importing data\n",
    "\n",
    "Next, I will import the data I downloaded from the LA Times' webpage. As we covered in the Week 2 lesson, I will use relative paths to point to where the data is stored. "
   ]
  },
  {
   "cell_type": "code",
   "execution_count": 13,
   "metadata": {},
   "outputs": [],
   "source": [
    "LATneighborhood = gpd.read_file('data/l.a. county neighborhood (v6).shp')"
   ]
  },
  {
   "cell_type": "markdown",
   "metadata": {},
   "source": [
    "1.2 Output: The LA Times' data has now been imported into this notebook."
   ]
  },
  {
   "cell_type": "markdown",
   "metadata": {},
   "source": [
    "## Checking data type\n",
    "\n",
    "I will check the data type using the \"type\" command."
   ]
  },
  {
   "cell_type": "code",
   "execution_count": 14,
   "metadata": {},
   "outputs": [
    {
     "data": {
      "text/plain": [
       "geopandas.geodataframe.GeoDataFrame"
      ]
     },
     "execution_count": 14,
     "metadata": {},
     "output_type": "execute_result"
    }
   ],
   "source": [
    "type(LATneighborhood)"
   ]
  },
  {
   "cell_type": "markdown",
   "metadata": {},
   "source": [
    "1.3 Output: The output confirms that the data type is \"geopandas.\""
   ]
  },
  {
   "cell_type": "markdown",
   "metadata": {},
   "source": [
    "## .head(): What does the data look like?\n",
    "\n",
    "I will use the \".head()\" command to see what the data looks like."
   ]
  },
  {
   "cell_type": "code",
   "execution_count": 15,
   "metadata": {},
   "outputs": [
    {
     "data": {
      "text/html": [
       "<div>\n",
       "<style scoped>\n",
       "    .dataframe tbody tr th:only-of-type {\n",
       "        vertical-align: middle;\n",
       "    }\n",
       "\n",
       "    .dataframe tbody tr th {\n",
       "        vertical-align: top;\n",
       "    }\n",
       "\n",
       "    .dataframe thead th {\n",
       "        text-align: right;\n",
       "    }\n",
       "</style>\n",
       "<table border=\"1\" class=\"dataframe\">\n",
       "  <thead>\n",
       "    <tr style=\"text-align: right;\">\n",
       "      <th></th>\n",
       "      <th>slug</th>\n",
       "      <th>set</th>\n",
       "      <th>kind</th>\n",
       "      <th>external_i</th>\n",
       "      <th>name</th>\n",
       "      <th>display_na</th>\n",
       "      <th>city</th>\n",
       "      <th>name_1</th>\n",
       "      <th>region</th>\n",
       "      <th>county</th>\n",
       "      <th>type</th>\n",
       "      <th>slug_1</th>\n",
       "      <th>geometry</th>\n",
       "    </tr>\n",
       "  </thead>\n",
       "  <tbody>\n",
       "    <tr>\n",
       "      <th>0</th>\n",
       "      <td>acton</td>\n",
       "      <td>L.A. County Neighborhoods (V6)</td>\n",
       "      <td>L.A. County Neighborhood (V6)</td>\n",
       "      <td>acton</td>\n",
       "      <td>Acton</td>\n",
       "      <td>Acton L.A. County Neighborhood (V6)</td>\n",
       "      <td>None</td>\n",
       "      <td>None</td>\n",
       "      <td>antelope-valley</td>\n",
       "      <td>los-angeles</td>\n",
       "      <td>unincorporated-area</td>\n",
       "      <td>None</td>\n",
       "      <td>POLYGON ((-118.20703 34.53902, -118.18941 34.5...</td>\n",
       "    </tr>\n",
       "    <tr>\n",
       "      <th>1</th>\n",
       "      <td>adams-normandie</td>\n",
       "      <td>L.A. County Neighborhoods (V6)</td>\n",
       "      <td>L.A. County Neighborhood (V6)</td>\n",
       "      <td>adams-normandie</td>\n",
       "      <td>Adams-Normandie</td>\n",
       "      <td>Adams-Normandie L.A. County Neighborhood (V6)</td>\n",
       "      <td>los-angeles</td>\n",
       "      <td>None</td>\n",
       "      <td>south-la</td>\n",
       "      <td>los-angeles</td>\n",
       "      <td>segment-of-a-city</td>\n",
       "      <td>None</td>\n",
       "      <td>POLYGON ((-118.30800 34.03740, -118.30067 34.0...</td>\n",
       "    </tr>\n",
       "    <tr>\n",
       "      <th>2</th>\n",
       "      <td>agoura-hills</td>\n",
       "      <td>L.A. County Neighborhoods (V6)</td>\n",
       "      <td>L.A. County Neighborhood (V6)</td>\n",
       "      <td>agoura-hills</td>\n",
       "      <td>Agoura Hills</td>\n",
       "      <td>Agoura Hills L.A. County Neighborhood (V6)</td>\n",
       "      <td>None</td>\n",
       "      <td>None</td>\n",
       "      <td>santa-monica-mountains</td>\n",
       "      <td>los-angeles</td>\n",
       "      <td>standalone-city</td>\n",
       "      <td>None</td>\n",
       "      <td>POLYGON ((-118.77621 34.16816, -118.72632 34.1...</td>\n",
       "    </tr>\n",
       "    <tr>\n",
       "      <th>3</th>\n",
       "      <td>agua-dulce</td>\n",
       "      <td>L.A. County Neighborhoods (V6)</td>\n",
       "      <td>L.A. County Neighborhood (V6)</td>\n",
       "      <td>agua-dulce</td>\n",
       "      <td>Agua Dulce</td>\n",
       "      <td>Agua Dulce L.A. County Neighborhood (V6)</td>\n",
       "      <td>None</td>\n",
       "      <td>None</td>\n",
       "      <td>northwest-county</td>\n",
       "      <td>los-angeles</td>\n",
       "      <td>unincorporated-area</td>\n",
       "      <td>None</td>\n",
       "      <td>MULTIPOLYGON (((-118.37822 34.48811, -118.3783...</td>\n",
       "    </tr>\n",
       "    <tr>\n",
       "      <th>4</th>\n",
       "      <td>alhambra</td>\n",
       "      <td>L.A. County Neighborhoods (V6)</td>\n",
       "      <td>L.A. County Neighborhood (V6)</td>\n",
       "      <td>alhambra</td>\n",
       "      <td>Alhambra</td>\n",
       "      <td>Alhambra L.A. County Neighborhood (V6)</td>\n",
       "      <td>None</td>\n",
       "      <td>None</td>\n",
       "      <td>san-gabriel-valley</td>\n",
       "      <td>los-angeles</td>\n",
       "      <td>standalone-city</td>\n",
       "      <td>None</td>\n",
       "      <td>POLYGON ((-118.12175 34.10504, -118.11687 34.1...</td>\n",
       "    </tr>\n",
       "  </tbody>\n",
       "</table>\n",
       "</div>"
      ],
      "text/plain": [
       "              slug                             set  \\\n",
       "0            acton  L.A. County Neighborhoods (V6)   \n",
       "1  adams-normandie  L.A. County Neighborhoods (V6)   \n",
       "2     agoura-hills  L.A. County Neighborhoods (V6)   \n",
       "3       agua-dulce  L.A. County Neighborhoods (V6)   \n",
       "4         alhambra  L.A. County Neighborhoods (V6)   \n",
       "\n",
       "                            kind       external_i             name  \\\n",
       "0  L.A. County Neighborhood (V6)            acton            Acton   \n",
       "1  L.A. County Neighborhood (V6)  adams-normandie  Adams-Normandie   \n",
       "2  L.A. County Neighborhood (V6)     agoura-hills     Agoura Hills   \n",
       "3  L.A. County Neighborhood (V6)       agua-dulce       Agua Dulce   \n",
       "4  L.A. County Neighborhood (V6)         alhambra         Alhambra   \n",
       "\n",
       "                                      display_na         city name_1  \\\n",
       "0            Acton L.A. County Neighborhood (V6)         None   None   \n",
       "1  Adams-Normandie L.A. County Neighborhood (V6)  los-angeles   None   \n",
       "2     Agoura Hills L.A. County Neighborhood (V6)         None   None   \n",
       "3       Agua Dulce L.A. County Neighborhood (V6)         None   None   \n",
       "4         Alhambra L.A. County Neighborhood (V6)         None   None   \n",
       "\n",
       "                   region       county                 type slug_1  \\\n",
       "0         antelope-valley  los-angeles  unincorporated-area   None   \n",
       "1                south-la  los-angeles    segment-of-a-city   None   \n",
       "2  santa-monica-mountains  los-angeles      standalone-city   None   \n",
       "3        northwest-county  los-angeles  unincorporated-area   None   \n",
       "4      san-gabriel-valley  los-angeles      standalone-city   None   \n",
       "\n",
       "                                            geometry  \n",
       "0  POLYGON ((-118.20703 34.53902, -118.18941 34.5...  \n",
       "1  POLYGON ((-118.30800 34.03740, -118.30067 34.0...  \n",
       "2  POLYGON ((-118.77621 34.16816, -118.72632 34.1...  \n",
       "3  MULTIPOLYGON (((-118.37822 34.48811, -118.3783...  \n",
       "4  POLYGON ((-118.12175 34.10504, -118.11687 34.1...  "
      ]
     },
     "execution_count": 15,
     "metadata": {},
     "output_type": "execute_result"
    }
   ],
   "source": [
    "LATneighborhood.head()"
   ]
  },
  {
   "cell_type": "markdown",
   "metadata": {},
   "source": [
    "1.4 Output: As covered in this week's lesson, the python dataframe is like an excel spreadsheet. The \".head()\" command shows us the first 5 rows of the dataframe and all of the columns. What's odd to me is that this dataset does not contain any information about the \"Latitude\" or \"Longitude\" of the geometries. I'm not sure how I will be able to generate a map with this dataset."
   ]
  },
  {
   "cell_type": "markdown",
   "metadata": {},
   "source": [
    "## .tail(): What does the data look like?\n",
    "\n",
    "I will also use the \".tail()\" command to see what the data looks like. I am using this to see if it presents the data differently from the \".head()\" command."
   ]
  },
  {
   "cell_type": "code",
   "execution_count": 16,
   "metadata": {},
   "outputs": [
    {
     "data": {
      "text/html": [
       "<div>\n",
       "<style scoped>\n",
       "    .dataframe tbody tr th:only-of-type {\n",
       "        vertical-align: middle;\n",
       "    }\n",
       "\n",
       "    .dataframe tbody tr th {\n",
       "        vertical-align: top;\n",
       "    }\n",
       "\n",
       "    .dataframe thead th {\n",
       "        text-align: right;\n",
       "    }\n",
       "</style>\n",
       "<table border=\"1\" class=\"dataframe\">\n",
       "  <thead>\n",
       "    <tr style=\"text-align: right;\">\n",
       "      <th></th>\n",
       "      <th>slug</th>\n",
       "      <th>set</th>\n",
       "      <th>kind</th>\n",
       "      <th>external_i</th>\n",
       "      <th>name</th>\n",
       "      <th>display_na</th>\n",
       "      <th>city</th>\n",
       "      <th>name_1</th>\n",
       "      <th>region</th>\n",
       "      <th>county</th>\n",
       "      <th>type</th>\n",
       "      <th>slug_1</th>\n",
       "      <th>geometry</th>\n",
       "    </tr>\n",
       "  </thead>\n",
       "  <tbody>\n",
       "    <tr>\n",
       "      <th>313</th>\n",
       "      <td>wilmington</td>\n",
       "      <td>L.A. County Neighborhoods (V6)</td>\n",
       "      <td>L.A. County Neighborhood (V6)</td>\n",
       "      <td>wilmington</td>\n",
       "      <td>Wilmington</td>\n",
       "      <td>Wilmington L.A. County Neighborhood (V6)</td>\n",
       "      <td>los-angeles</td>\n",
       "      <td>None</td>\n",
       "      <td>harbor</td>\n",
       "      <td>los-angeles</td>\n",
       "      <td>segment-of-a-city</td>\n",
       "      <td>None</td>\n",
       "      <td>POLYGON ((-118.22476 33.82461, -118.22458 33.8...</td>\n",
       "    </tr>\n",
       "    <tr>\n",
       "      <th>314</th>\n",
       "      <td>windsor-square</td>\n",
       "      <td>L.A. County Neighborhoods (V6)</td>\n",
       "      <td>L.A. County Neighborhood (V6)</td>\n",
       "      <td>windsor-square</td>\n",
       "      <td>Windsor Square</td>\n",
       "      <td>Windsor Square L.A. County Neighborhood (V6)</td>\n",
       "      <td>los-angeles</td>\n",
       "      <td>None</td>\n",
       "      <td>central-la</td>\n",
       "      <td>los-angeles</td>\n",
       "      <td>segment-of-a-city</td>\n",
       "      <td>None</td>\n",
       "      <td>POLYGON ((-118.31359 34.07623, -118.31358 34.0...</td>\n",
       "    </tr>\n",
       "    <tr>\n",
       "      <th>315</th>\n",
       "      <td>winnetka</td>\n",
       "      <td>L.A. County Neighborhoods (V6)</td>\n",
       "      <td>L.A. County Neighborhood (V6)</td>\n",
       "      <td>winnetka</td>\n",
       "      <td>Winnetka</td>\n",
       "      <td>Winnetka L.A. County Neighborhood (V6)</td>\n",
       "      <td>los-angeles</td>\n",
       "      <td>None</td>\n",
       "      <td>san-fernando-valley</td>\n",
       "      <td>los-angeles</td>\n",
       "      <td>segment-of-a-city</td>\n",
       "      <td>None</td>\n",
       "      <td>POLYGON ((-118.56231 34.23199, -118.56222 34.1...</td>\n",
       "    </tr>\n",
       "    <tr>\n",
       "      <th>316</th>\n",
       "      <td>woodland-hills</td>\n",
       "      <td>L.A. County Neighborhoods (V6)</td>\n",
       "      <td>L.A. County Neighborhood (V6)</td>\n",
       "      <td>woodland-hills</td>\n",
       "      <td>Woodland Hills</td>\n",
       "      <td>Woodland Hills L.A. County Neighborhood (V6)</td>\n",
       "      <td>los-angeles</td>\n",
       "      <td>None</td>\n",
       "      <td>san-fernando-valley</td>\n",
       "      <td>los-angeles</td>\n",
       "      <td>segment-of-a-city</td>\n",
       "      <td>None</td>\n",
       "      <td>POLYGON ((-118.57644 34.18836, -118.57488 34.1...</td>\n",
       "    </tr>\n",
       "    <tr>\n",
       "      <th>317</th>\n",
       "      <td>yorba-linda</td>\n",
       "      <td>L.A. County Neighborhoods (V6)</td>\n",
       "      <td>L.A. County Neighborhood (V6)</td>\n",
       "      <td>yorba-linda</td>\n",
       "      <td>Yorba Linda</td>\n",
       "      <td>Yorba Linda L.A. County Neighborhood (V6)</td>\n",
       "      <td>None</td>\n",
       "      <td>None</td>\n",
       "      <td>north-county</td>\n",
       "      <td>orange</td>\n",
       "      <td>standalone-city</td>\n",
       "      <td>None</td>\n",
       "      <td>MULTIPOLYGON (((-117.83449 33.87991, -117.8396...</td>\n",
       "    </tr>\n",
       "  </tbody>\n",
       "</table>\n",
       "</div>"
      ],
      "text/plain": [
       "               slug                             set  \\\n",
       "313      wilmington  L.A. County Neighborhoods (V6)   \n",
       "314  windsor-square  L.A. County Neighborhoods (V6)   \n",
       "315        winnetka  L.A. County Neighborhoods (V6)   \n",
       "316  woodland-hills  L.A. County Neighborhoods (V6)   \n",
       "317     yorba-linda  L.A. County Neighborhoods (V6)   \n",
       "\n",
       "                              kind      external_i            name  \\\n",
       "313  L.A. County Neighborhood (V6)      wilmington      Wilmington   \n",
       "314  L.A. County Neighborhood (V6)  windsor-square  Windsor Square   \n",
       "315  L.A. County Neighborhood (V6)        winnetka        Winnetka   \n",
       "316  L.A. County Neighborhood (V6)  woodland-hills  Woodland Hills   \n",
       "317  L.A. County Neighborhood (V6)     yorba-linda     Yorba Linda   \n",
       "\n",
       "                                       display_na         city name_1  \\\n",
       "313      Wilmington L.A. County Neighborhood (V6)  los-angeles   None   \n",
       "314  Windsor Square L.A. County Neighborhood (V6)  los-angeles   None   \n",
       "315        Winnetka L.A. County Neighborhood (V6)  los-angeles   None   \n",
       "316  Woodland Hills L.A. County Neighborhood (V6)  los-angeles   None   \n",
       "317     Yorba Linda L.A. County Neighborhood (V6)         None   None   \n",
       "\n",
       "                  region       county               type slug_1  \\\n",
       "313               harbor  los-angeles  segment-of-a-city   None   \n",
       "314           central-la  los-angeles  segment-of-a-city   None   \n",
       "315  san-fernando-valley  los-angeles  segment-of-a-city   None   \n",
       "316  san-fernando-valley  los-angeles  segment-of-a-city   None   \n",
       "317         north-county       orange    standalone-city   None   \n",
       "\n",
       "                                              geometry  \n",
       "313  POLYGON ((-118.22476 33.82461, -118.22458 33.8...  \n",
       "314  POLYGON ((-118.31359 34.07623, -118.31358 34.0...  \n",
       "315  POLYGON ((-118.56231 34.23199, -118.56222 34.1...  \n",
       "316  POLYGON ((-118.57644 34.18836, -118.57488 34.1...  \n",
       "317  MULTIPOLYGON (((-117.83449 33.87991, -117.8396...  "
      ]
     },
     "execution_count": 16,
     "metadata": {},
     "output_type": "execute_result"
    }
   ],
   "source": [
    "LATneighborhood.tail()"
   ]
  },
  {
   "cell_type": "markdown",
   "metadata": {},
   "source": [
    "1.5 Output: The \".tail()\" command shows us the last 5 rows of the dataframe. I now see that there are 318 rows in total (since 0 is the first row)."
   ]
  },
  {
   "cell_type": "markdown",
   "metadata": {},
   "source": [
    "## .sample(): What does the data look like?\n",
    "\n",
    "I will also use the \".sample()\" command to see what the data looks like. I am using this to see if it presents the data differently from the \".head()\" or \".tail()\" command."
   ]
  },
  {
   "cell_type": "code",
   "execution_count": 17,
   "metadata": {},
   "outputs": [
    {
     "data": {
      "text/html": [
       "<div>\n",
       "<style scoped>\n",
       "    .dataframe tbody tr th:only-of-type {\n",
       "        vertical-align: middle;\n",
       "    }\n",
       "\n",
       "    .dataframe tbody tr th {\n",
       "        vertical-align: top;\n",
       "    }\n",
       "\n",
       "    .dataframe thead th {\n",
       "        text-align: right;\n",
       "    }\n",
       "</style>\n",
       "<table border=\"1\" class=\"dataframe\">\n",
       "  <thead>\n",
       "    <tr style=\"text-align: right;\">\n",
       "      <th></th>\n",
       "      <th>slug</th>\n",
       "      <th>set</th>\n",
       "      <th>kind</th>\n",
       "      <th>external_i</th>\n",
       "      <th>name</th>\n",
       "      <th>display_na</th>\n",
       "      <th>city</th>\n",
       "      <th>name_1</th>\n",
       "      <th>region</th>\n",
       "      <th>county</th>\n",
       "      <th>type</th>\n",
       "      <th>slug_1</th>\n",
       "      <th>geometry</th>\n",
       "    </tr>\n",
       "  </thead>\n",
       "  <tbody>\n",
       "    <tr>\n",
       "      <th>271</th>\n",
       "      <td>unincorporated-catalina-island</td>\n",
       "      <td>L.A. County Neighborhoods (V6)</td>\n",
       "      <td>L.A. County Neighborhood (V6)</td>\n",
       "      <td>unincorporated-catalina-island</td>\n",
       "      <td>Unincorporated Catalina Island</td>\n",
       "      <td>Unincorporated Catalina Island L.A. County Nei...</td>\n",
       "      <td>None</td>\n",
       "      <td>None</td>\n",
       "      <td>harbor</td>\n",
       "      <td>los-angeles</td>\n",
       "      <td>unincorporated-area</td>\n",
       "      <td>None</td>\n",
       "      <td>POLYGON ((-118.60583 33.47893, -118.60444 33.4...</td>\n",
       "    </tr>\n",
       "  </tbody>\n",
       "</table>\n",
       "</div>"
      ],
      "text/plain": [
       "                               slug                             set  \\\n",
       "271  unincorporated-catalina-island  L.A. County Neighborhoods (V6)   \n",
       "\n",
       "                              kind                      external_i  \\\n",
       "271  L.A. County Neighborhood (V6)  unincorporated-catalina-island   \n",
       "\n",
       "                               name  \\\n",
       "271  Unincorporated Catalina Island   \n",
       "\n",
       "                                            display_na  city name_1  region  \\\n",
       "271  Unincorporated Catalina Island L.A. County Nei...  None   None  harbor   \n",
       "\n",
       "          county                 type slug_1  \\\n",
       "271  los-angeles  unincorporated-area   None   \n",
       "\n",
       "                                              geometry  \n",
       "271  POLYGON ((-118.60583 33.47893, -118.60444 33.4...  "
      ]
     },
     "execution_count": 17,
     "metadata": {},
     "output_type": "execute_result"
    }
   ],
   "source": [
    "LATneighborhood.sample()"
   ]
  },
  {
   "cell_type": "markdown",
   "metadata": {},
   "source": [
    "1.6 Output: The \".sample()\" command shows us a random row of the dataframe."
   ]
  },
  {
   "cell_type": "markdown",
   "metadata": {},
   "source": [
    "## .info(): \n",
    "\n",
    "I will use the \".info()\" command to see what information is contained in all the datatypes for each column."
   ]
  },
  {
   "cell_type": "code",
   "execution_count": 18,
   "metadata": {},
   "outputs": [
    {
     "name": "stdout",
     "output_type": "stream",
     "text": [
      "<class 'geopandas.geodataframe.GeoDataFrame'>\n",
      "RangeIndex: 318 entries, 0 to 317\n",
      "Data columns (total 13 columns):\n",
      " #   Column      Non-Null Count  Dtype   \n",
      "---  ------      --------------  -----   \n",
      " 0   slug        318 non-null    object  \n",
      " 1   set         318 non-null    object  \n",
      " 2   kind        318 non-null    object  \n",
      " 3   external_i  318 non-null    object  \n",
      " 4   name        318 non-null    object  \n",
      " 5   display_na  318 non-null    object  \n",
      " 6   city        114 non-null    object  \n",
      " 7   name_1      0 non-null      object  \n",
      " 8   region      318 non-null    object  \n",
      " 9   county      318 non-null    object  \n",
      " 10  type        318 non-null    object  \n",
      " 11  slug_1      0 non-null      object  \n",
      " 12  geometry    318 non-null    geometry\n",
      "dtypes: geometry(1), object(12)\n",
      "memory usage: 32.4+ KB\n"
     ]
    }
   ],
   "source": [
    "LATneighborhood.info()"
   ]
  },
  {
   "cell_type": "markdown",
   "metadata": {},
   "source": [
    "1.7 Output: Compared to the \".dtypes\" command, \".info()\" provides more information. With the latter command, we know the number of entires (318), number of columns, non-null counts, dtypes counts (1 geometry, 12 object), and memory usage."
   ]
  },
  {
   "cell_type": "markdown",
   "metadata": {},
   "source": [
    "## .shape: \n",
    "\n",
    "I will use the \".shape\" command to see how many rows and columns are in the dataset."
   ]
  },
  {
   "cell_type": "code",
   "execution_count": 19,
   "metadata": {},
   "outputs": [
    {
     "data": {
      "text/plain": [
       "(318, 13)"
      ]
     },
     "execution_count": 19,
     "metadata": {},
     "output_type": "execute_result"
    }
   ],
   "source": [
    "LATneighborhood.shape"
   ]
  },
  {
   "cell_type": "markdown",
   "metadata": {},
   "source": [
    "1.8 Output: The \".shape\" command tells me that this dataset contains 318 rows and 13 columns."
   ]
  },
  {
   "cell_type": "markdown",
   "metadata": {},
   "source": [
    "## .columns.to_list: \n",
    "\n",
    "I will use the \".columns.to_list\" command to show what the columns are in the dataset."
   ]
  },
  {
   "cell_type": "code",
   "execution_count": 20,
   "metadata": {},
   "outputs": [
    {
     "data": {
      "text/plain": [
       "['slug',\n",
       " 'set',\n",
       " 'kind',\n",
       " 'external_i',\n",
       " 'name',\n",
       " 'display_na',\n",
       " 'city',\n",
       " 'name_1',\n",
       " 'region',\n",
       " 'county',\n",
       " 'type',\n",
       " 'slug_1',\n",
       " 'geometry']"
      ]
     },
     "execution_count": 20,
     "metadata": {},
     "output_type": "execute_result"
    }
   ],
   "source": [
    "LATneighborhood.columns.to_list()"
   ]
  },
  {
   "cell_type": "markdown",
   "metadata": {},
   "source": [
    "1.9 Output: The \".columns.to_list\" command shows the name of each column in the dataset. Looking back to the \".shape\" command, I see that the number of items listed for the column in the \".shape\" command (13) matches the number of items listed in the \".columns.to_list\" command (13)."
   ]
  },
  {
   "cell_type": "markdown",
   "metadata": {},
   "source": [
    "##  Counting unique values in a column (option 1):\n",
    "\n",
    "I will use the \"LATneighborhood['name of column']\" command to see the values for a single column."
   ]
  },
  {
   "cell_type": "code",
   "execution_count": 21,
   "metadata": {},
   "outputs": [
    {
     "data": {
      "text/plain": [
       "0                acton\n",
       "1      adams-normandie\n",
       "2         agoura-hills\n",
       "3           agua-dulce\n",
       "4             alhambra\n",
       "            ...       \n",
       "313         wilmington\n",
       "314     windsor-square\n",
       "315           winnetka\n",
       "316     woodland-hills\n",
       "317        yorba-linda\n",
       "Name: slug, Length: 318, dtype: object"
      ]
     },
     "execution_count": 21,
     "metadata": {},
     "output_type": "execute_result"
    }
   ],
   "source": [
    "LATneighborhood['slug']"
   ]
  },
  {
   "cell_type": "markdown",
   "metadata": {},
   "source": [
    "1.10 Output: This command lists all the values for the first column \"slug\" in the dataset."
   ]
  },
  {
   "cell_type": "markdown",
   "metadata": {},
   "source": [
    "##  Counting unique values in a column (option 2):\n",
    "\n",
    "I will use the \"LATneighborhood.name of column\" command as an altnerative way to see the values for the first column, \"slug.\""
   ]
  },
  {
   "cell_type": "code",
   "execution_count": 22,
   "metadata": {},
   "outputs": [
    {
     "data": {
      "text/plain": [
       "0                acton\n",
       "1      adams-normandie\n",
       "2         agoura-hills\n",
       "3           agua-dulce\n",
       "4             alhambra\n",
       "            ...       \n",
       "313         wilmington\n",
       "314     windsor-square\n",
       "315           winnetka\n",
       "316     woodland-hills\n",
       "317        yorba-linda\n",
       "Name: slug, Length: 318, dtype: object"
      ]
     },
     "execution_count": 22,
     "metadata": {},
     "output_type": "execute_result"
    }
   ],
   "source": [
    "LATneighborhood.slug"
   ]
  },
  {
   "cell_type": "markdown",
   "metadata": {},
   "source": [
    "1.11 Output: This option results in the same findings as option 1."
   ]
  },
  {
   "cell_type": "markdown",
   "metadata": {},
   "source": [
    "##  name.value_counts():\n",
    "\n",
    "I will use the \"LATneighborhood.name.value_counts()\" command to see how many different value counts there are for each neighborhood name."
   ]
  },
  {
   "cell_type": "code",
   "execution_count": 23,
   "metadata": {},
   "outputs": [
    {
     "data": {
      "text/plain": [
       "Palms                  1\n",
       "Chinatown              1\n",
       "South Gate             1\n",
       "Lopez/Kagel Canyons    1\n",
       "Woodland Hills         1\n",
       "                      ..\n",
       "Las Flores             1\n",
       "Avocado Heights        1\n",
       "University Park        1\n",
       "Citrus                 1\n",
       "North Hills            1\n",
       "Name: name, Length: 318, dtype: int64"
      ]
     },
     "execution_count": 23,
     "metadata": {},
     "output_type": "execute_result"
    }
   ],
   "source": [
    "LATneighborhood.name.value_counts()"
   ]
  },
  {
   "cell_type": "markdown",
   "metadata": {},
   "source": [
    "1.12 Output: There is only 1 value count for each neighborhood shared in the command results."
   ]
  },
  {
   "cell_type": "markdown",
   "metadata": {},
   "source": [
    "##  Saving name count as a variable:\n",
    "\n",
    "I will save the name count for each neighborhood as a variable through the command \"name_count = LATneighborhood.name.value_counts()\""
   ]
  },
  {
   "cell_type": "code",
   "execution_count": 24,
   "metadata": {},
   "outputs": [
    {
     "data": {
      "text/plain": [
       "Palms                  1\n",
       "Chinatown              1\n",
       "South Gate             1\n",
       "Lopez/Kagel Canyons    1\n",
       "Woodland Hills         1\n",
       "                      ..\n",
       "Las Flores             1\n",
       "Avocado Heights        1\n",
       "University Park        1\n",
       "Citrus                 1\n",
       "North Hills            1\n",
       "Name: name, Length: 318, dtype: int64"
      ]
     },
     "execution_count": 24,
     "metadata": {},
     "output_type": "execute_result"
    }
   ],
   "source": [
    "name_count = LATneighborhood.name.value_counts()\n",
    "name_count"
   ]
  },
  {
   "cell_type": "markdown",
   "metadata": {},
   "source": [
    "1.13 Output: The \"name_count\" command will now run \"LATneighborhood.name.value_counts(),\" which reduces the amount I need to type into the command line."
   ]
  },
  {
   "cell_type": "markdown",
   "metadata": {},
   "source": [
    "##  Convert the series to a dataframe:\n",
    "\n",
    "I will use \"name_count = name_count.reset.index()\" and run \"name_count\" to convert the series to a dataframe."
   ]
  },
  {
   "cell_type": "code",
   "execution_count": 25,
   "metadata": {},
   "outputs": [
    {
     "data": {
      "text/html": [
       "<div>\n",
       "<style scoped>\n",
       "    .dataframe tbody tr th:only-of-type {\n",
       "        vertical-align: middle;\n",
       "    }\n",
       "\n",
       "    .dataframe tbody tr th {\n",
       "        vertical-align: top;\n",
       "    }\n",
       "\n",
       "    .dataframe thead th {\n",
       "        text-align: right;\n",
       "    }\n",
       "</style>\n",
       "<table border=\"1\" class=\"dataframe\">\n",
       "  <thead>\n",
       "    <tr style=\"text-align: right;\">\n",
       "      <th></th>\n",
       "      <th>index</th>\n",
       "      <th>name</th>\n",
       "    </tr>\n",
       "  </thead>\n",
       "  <tbody>\n",
       "    <tr>\n",
       "      <th>0</th>\n",
       "      <td>Palms</td>\n",
       "      <td>1</td>\n",
       "    </tr>\n",
       "    <tr>\n",
       "      <th>1</th>\n",
       "      <td>Chinatown</td>\n",
       "      <td>1</td>\n",
       "    </tr>\n",
       "    <tr>\n",
       "      <th>2</th>\n",
       "      <td>South Gate</td>\n",
       "      <td>1</td>\n",
       "    </tr>\n",
       "    <tr>\n",
       "      <th>3</th>\n",
       "      <td>Lopez/Kagel Canyons</td>\n",
       "      <td>1</td>\n",
       "    </tr>\n",
       "    <tr>\n",
       "      <th>4</th>\n",
       "      <td>Woodland Hills</td>\n",
       "      <td>1</td>\n",
       "    </tr>\n",
       "    <tr>\n",
       "      <th>...</th>\n",
       "      <td>...</td>\n",
       "      <td>...</td>\n",
       "    </tr>\n",
       "    <tr>\n",
       "      <th>313</th>\n",
       "      <td>Las Flores</td>\n",
       "      <td>1</td>\n",
       "    </tr>\n",
       "    <tr>\n",
       "      <th>314</th>\n",
       "      <td>Avocado Heights</td>\n",
       "      <td>1</td>\n",
       "    </tr>\n",
       "    <tr>\n",
       "      <th>315</th>\n",
       "      <td>University Park</td>\n",
       "      <td>1</td>\n",
       "    </tr>\n",
       "    <tr>\n",
       "      <th>316</th>\n",
       "      <td>Citrus</td>\n",
       "      <td>1</td>\n",
       "    </tr>\n",
       "    <tr>\n",
       "      <th>317</th>\n",
       "      <td>North Hills</td>\n",
       "      <td>1</td>\n",
       "    </tr>\n",
       "  </tbody>\n",
       "</table>\n",
       "<p>318 rows × 2 columns</p>\n",
       "</div>"
      ],
      "text/plain": [
       "                   index  name\n",
       "0                  Palms     1\n",
       "1              Chinatown     1\n",
       "2             South Gate     1\n",
       "3    Lopez/Kagel Canyons     1\n",
       "4         Woodland Hills     1\n",
       "..                   ...   ...\n",
       "313           Las Flores     1\n",
       "314      Avocado Heights     1\n",
       "315      University Park     1\n",
       "316               Citrus     1\n",
       "317          North Hills     1\n",
       "\n",
       "[318 rows x 2 columns]"
      ]
     },
     "execution_count": 25,
     "metadata": {},
     "output_type": "execute_result"
    }
   ],
   "source": [
    "name_count = name_count.reset_index()\n",
    "name_count"
   ]
  },
  {
   "cell_type": "markdown",
   "metadata": {},
   "source": [
    "1.14 Output: The series has been converted to a more \"reader-friendly\" dataframe."
   ]
  },
  {
   "cell_type": "markdown",
   "metadata": {},
   "source": [
    "## Renaming columns:\n",
    "\n",
    "I will rename columns by running \"name_count.columns = ['', '', 'Neighborhood', 'Count']\""
   ]
  },
  {
   "cell_type": "code",
   "execution_count": 28,
   "metadata": {},
   "outputs": [
    {
     "data": {
      "text/html": [
       "<div>\n",
       "<style scoped>\n",
       "    .dataframe tbody tr th:only-of-type {\n",
       "        vertical-align: middle;\n",
       "    }\n",
       "\n",
       "    .dataframe tbody tr th {\n",
       "        vertical-align: top;\n",
       "    }\n",
       "\n",
       "    .dataframe thead th {\n",
       "        text-align: right;\n",
       "    }\n",
       "</style>\n",
       "<table border=\"1\" class=\"dataframe\">\n",
       "  <thead>\n",
       "    <tr style=\"text-align: right;\">\n",
       "      <th></th>\n",
       "      <th>Neighborhood</th>\n",
       "      <th>Count</th>\n",
       "    </tr>\n",
       "  </thead>\n",
       "  <tbody>\n",
       "    <tr>\n",
       "      <th>0</th>\n",
       "      <td>Palms</td>\n",
       "      <td>1</td>\n",
       "    </tr>\n",
       "    <tr>\n",
       "      <th>1</th>\n",
       "      <td>Chinatown</td>\n",
       "      <td>1</td>\n",
       "    </tr>\n",
       "    <tr>\n",
       "      <th>2</th>\n",
       "      <td>South Gate</td>\n",
       "      <td>1</td>\n",
       "    </tr>\n",
       "    <tr>\n",
       "      <th>3</th>\n",
       "      <td>Lopez/Kagel Canyons</td>\n",
       "      <td>1</td>\n",
       "    </tr>\n",
       "    <tr>\n",
       "      <th>4</th>\n",
       "      <td>Woodland Hills</td>\n",
       "      <td>1</td>\n",
       "    </tr>\n",
       "    <tr>\n",
       "      <th>...</th>\n",
       "      <td>...</td>\n",
       "      <td>...</td>\n",
       "    </tr>\n",
       "    <tr>\n",
       "      <th>313</th>\n",
       "      <td>Las Flores</td>\n",
       "      <td>1</td>\n",
       "    </tr>\n",
       "    <tr>\n",
       "      <th>314</th>\n",
       "      <td>Avocado Heights</td>\n",
       "      <td>1</td>\n",
       "    </tr>\n",
       "    <tr>\n",
       "      <th>315</th>\n",
       "      <td>University Park</td>\n",
       "      <td>1</td>\n",
       "    </tr>\n",
       "    <tr>\n",
       "      <th>316</th>\n",
       "      <td>Citrus</td>\n",
       "      <td>1</td>\n",
       "    </tr>\n",
       "    <tr>\n",
       "      <th>317</th>\n",
       "      <td>North Hills</td>\n",
       "      <td>1</td>\n",
       "    </tr>\n",
       "  </tbody>\n",
       "</table>\n",
       "<p>318 rows × 2 columns</p>\n",
       "</div>"
      ],
      "text/plain": [
       "            Neighborhood  Count\n",
       "0                  Palms      1\n",
       "1              Chinatown      1\n",
       "2             South Gate      1\n",
       "3    Lopez/Kagel Canyons      1\n",
       "4         Woodland Hills      1\n",
       "..                   ...    ...\n",
       "313           Las Flores      1\n",
       "314      Avocado Heights      1\n",
       "315      University Park      1\n",
       "316               Citrus      1\n",
       "317          North Hills      1\n",
       "\n",
       "[318 rows x 2 columns]"
      ]
     },
     "execution_count": 28,
     "metadata": {},
     "output_type": "execute_result"
    }
   ],
   "source": [
    "name_count.columns = ['Neighborhood', 'Count']\n",
    "name_count"
   ]
  },
  {
   "cell_type": "markdown",
   "metadata": {},
   "source": [
    "1.15 Output: The first column's label was removed, the second column's label was switched from \"index\" to \"Neighborhood\" and the last column's label from \"name\" to \"Count.\" "
   ]
  },
  {
   "cell_type": "markdown",
   "metadata": {},
   "source": [
    "## .plot():\n",
    "\n",
    "I will use the \".plot()\" command to see the data in a graph format."
   ]
  },
  {
   "cell_type": "code",
   "execution_count": 29,
   "metadata": {},
   "outputs": [
    {
     "data": {
      "text/plain": [
       "<matplotlib.axes._subplots.AxesSubplot at 0x7f91ce455970>"
      ]
     },
     "execution_count": 29,
     "metadata": {},
     "output_type": "execute_result"
    },
    {
     "data": {
      "image/png": "[encoded data removed]",
      "text/plain": [
       "<Figure size 432x288 with 1 Axes>"
      ]
     },
     "metadata": {
      "needs_background": "light"
     },
     "output_type": "display_data"
    }
   ],
   "source": [
    "LATneighborhood.plot()"
   ]
  },
  {
   "cell_type": "markdown",
   "metadata": {},
   "source": [
    "1.16 Output: The dataset has been presented in a graph format. The dataset shows the geographic boundaries of LA's neighborhoods,"
   ]
  },
  {
   "cell_type": "markdown",
   "metadata": {},
   "source": [
    "## Mapping with folium:\n",
    "\n",
    "I will now try to create an interactive map through the module \"folium,\" which brings in a leaflet, or an open source javascript mapping library into the Python environment."
   ]
  },
  {
   "cell_type": "code",
   "execution_count": 7,
   "metadata": {},
   "outputs": [],
   "source": [
    "import folium"
   ]
  },
  {
   "cell_type": "code",
   "execution_count": 8,
   "metadata": {
    "scrolled": true
   },
   "outputs": [
    {
     "data": {
      "text/html": [
       "<div style=\"width:100%;\"><div style=\"position:relative;width:100%;height:0;padding-bottom:60%;\"><span style=\"color:#565656\">Make this Notebook Trusted to load map: File -> Trust Notebook</span><iframe src=\"about:blank\" style=\"position:absolute;width:100%;height:100%;left:0;top:0;border:none !important;\" data-html=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 onload=\"this.contentDocument.open();this.contentDocument.write(atob(this.getAttribute('data-html')));this.contentDocument.close();\" allowfullscreen webkitallowfullscreen mozallowfullscreen></iframe></div></div>"
      ],
      "text/plain": [
       "<folium.folium.Map at 0x7f91ce6a9610>"
      ]
     },
     "execution_count": 8,
     "metadata": {},
     "output_type": "execute_result"
    }
   ],
   "source": [
    "m = folium.Map()\n",
    "m"
   ]
  },
  {
   "cell_type": "code",
   "execution_count": 11,
   "metadata": {},
   "outputs": [
    {
     "ename": "AttributeError",
     "evalue": "'GeoDataFrame' object has no attribute 'LAT'",
     "output_type": "error",
     "traceback": [
      "\u001b[0;31m---------------------------------------------------------------------------\u001b[0m",
      "\u001b[0;31mAttributeError\u001b[0m                            Traceback (most recent call last)",
      "\u001b[0;32m<ipython-input-11-36474cffb812>\u001b[0m in \u001b[0;36m<module>\u001b[0;34m\u001b[0m\n\u001b[0;32m----> 1\u001b[0;31m \u001b[0mlatitude\u001b[0m \u001b[0;34m=\u001b[0m \u001b[0mLATneighborhood\u001b[0m\u001b[0;34m.\u001b[0m\u001b[0mLAT\u001b[0m\u001b[0;34m.\u001b[0m\u001b[0mmean\u001b[0m\u001b[0;34m(\u001b[0m\u001b[0;34m)\u001b[0m\u001b[0;34m\u001b[0m\u001b[0;34m\u001b[0m\u001b[0m\n\u001b[0m\u001b[1;32m      2\u001b[0m \u001b[0mlatitude\u001b[0m\u001b[0;34m\u001b[0m\u001b[0;34m\u001b[0m\u001b[0m\n",
      "\u001b[0;32m/opt/conda/lib/python3.8/site-packages/pandas/core/generic.py\u001b[0m in \u001b[0;36m__getattr__\u001b[0;34m(self, name)\u001b[0m\n\u001b[1;32m   5272\u001b[0m             \u001b[0;32mif\u001b[0m \u001b[0mself\u001b[0m\u001b[0;34m.\u001b[0m\u001b[0m_info_axis\u001b[0m\u001b[0;34m.\u001b[0m\u001b[0m_can_hold_identifiers_and_holds_name\u001b[0m\u001b[0;34m(\u001b[0m\u001b[0mname\u001b[0m\u001b[0;34m)\u001b[0m\u001b[0;34m:\u001b[0m\u001b[0;34m\u001b[0m\u001b[0;34m\u001b[0m\u001b[0m\n\u001b[1;32m   5273\u001b[0m                 \u001b[0;32mreturn\u001b[0m \u001b[0mself\u001b[0m\u001b[0;34m[\u001b[0m\u001b[0mname\u001b[0m\u001b[0;34m]\u001b[0m\u001b[0;34m\u001b[0m\u001b[0;34m\u001b[0m\u001b[0m\n\u001b[0;32m-> 5274\u001b[0;31m             \u001b[0;32mreturn\u001b[0m \u001b[0mobject\u001b[0m\u001b[0;34m.\u001b[0m\u001b[0m__getattribute__\u001b[0m\u001b[0;34m(\u001b[0m\u001b[0mself\u001b[0m\u001b[0;34m,\u001b[0m \u001b[0mname\u001b[0m\u001b[0;34m)\u001b[0m\u001b[0;34m\u001b[0m\u001b[0;34m\u001b[0m\u001b[0m\n\u001b[0m\u001b[1;32m   5275\u001b[0m \u001b[0;34m\u001b[0m\u001b[0m\n\u001b[1;32m   5276\u001b[0m     \u001b[0;32mdef\u001b[0m \u001b[0m__setattr__\u001b[0m\u001b[0;34m(\u001b[0m\u001b[0mself\u001b[0m\u001b[0;34m,\u001b[0m \u001b[0mname\u001b[0m\u001b[0;34m:\u001b[0m \u001b[0mstr\u001b[0m\u001b[0;34m,\u001b[0m \u001b[0mvalue\u001b[0m\u001b[0;34m)\u001b[0m \u001b[0;34m->\u001b[0m \u001b[0;32mNone\u001b[0m\u001b[0;34m:\u001b[0m\u001b[0;34m\u001b[0m\u001b[0;34m\u001b[0m\u001b[0m\n",
      "\u001b[0;31mAttributeError\u001b[0m: 'GeoDataFrame' object has no attribute 'LAT'"
     ]
    }
   ],
   "source": [
    "latitude = LATneighborhood.LAT.mean()\n",
    "latitude"
   ]
  },
  {
   "cell_type": "markdown",
   "metadata": {},
   "source": [
    "1.17 Output: I am unclear how this dataset is able to generate a map as shown in the following link: http://boundaries.latimes.com/set/la-county-neighborhoods-v6/. Based on what I am able to view about the dataset's contents in the step \"1.4,\" it does not appear that there is any information stored that provides latitudinal and longitudinal coordinates... So, how could the polygonal geometries provided correspond to specific locations if that is not stored in the dataset?"
   ]
  }
 ],
 "metadata": {
  "kernelspec": {
   "display_name": "Python 3",
   "language": "python",
   "name": "python3"
  },
  "language_info": {
   "codemirror_mode": {
    "name": "ipython",
    "version": 3
   },
   "file_extension": ".py",
   "mimetype": "text/x-python",
   "name": "python",
   "nbconvert_exporter": "python",
   "pygments_lexer": "ipython3",
   "version": "3.8.5"
  },
  "toc": {
   "base_numbering": 1,
   "nav_menu": {},
   "number_sections": true,
   "sideBar": true,
   "skip_h1_title": false,
   "title_cell": "Table of Contents",
   "title_sidebar": "Contents",
   "toc_cell": false,
   "toc_position": {},
   "toc_section_display": true,
   "toc_window_display": false
  }
 },
 "nbformat": 4,
 "nbformat_minor": 4
}
